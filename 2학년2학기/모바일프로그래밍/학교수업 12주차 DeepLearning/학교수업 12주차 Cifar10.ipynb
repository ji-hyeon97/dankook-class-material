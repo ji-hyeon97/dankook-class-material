{
  "nbformat": 4,
  "nbformat_minor": 0,
  "metadata": {
    "colab": {
      "name": "모바일프로그래밍 cifar10.ipynb",
      "provenance": [],
      "collapsed_sections": []
    },
    "kernelspec": {
      "name": "python3",
      "display_name": "Python 3"
    },
    "language_info": {
      "name": "python"
    },
    "accelerator": "GPU"
  },
  "cells": [
    {
      "cell_type": "code",
      "metadata": {
        "id": "8Pmi0Q4E9PBX",
        "colab": {
          "base_uri": "https://localhost:8080/"
        },
        "outputId": "6bbacc03-2b3f-47fe-f124-a06257244930"
      },
      "source": [
        "import tensorflow as tf\n",
        "from tensorflow import keras\n",
        "from tensorflow.keras import datasets, layers, models\n",
        "(train_images, train_labels), (test_images, test_labels) = datasets.cifar10.load_data()\n",
        "train_images=train_images/255.0\n",
        "test_images=test_images/255.0\n",
        "train_labels = keras.utils.to_categorical(train_labels, 25)\n",
        "test_labels = keras.utils.to_categorical(test_labels, 25)"
      ],
      "execution_count": null,
      "outputs": [
        {
          "output_type": "stream",
          "name": "stdout",
          "text": [
            "Downloading data from https://www.cs.toronto.edu/~kriz/cifar-10-python.tar.gz\n",
            "170500096/170498071 [==============================] - 3s 0us/step\n",
            "170508288/170498071 [==============================] - 3s 0us/step\n"
          ]
        }
      ]
    },
    {
      "cell_type": "code",
      "metadata": {
        "id": "RQrSHXTKKcDM"
      },
      "source": [
        "from keras.layers import Dropout\n",
        "from keras.layers import BatchNormalization\n",
        "from keras.regularizers import l1\n",
        "model = models.Sequential()\n",
        "\n",
        "model.add(layers.Conv2D(32, (3,3), activation='relu',kernel_regularizer=l1(0.0001),padding='same',input_shape=(32,32,3)))\n",
        "model.add(BatchNormalization())\n",
        "\n",
        "model.add(layers.Conv2D(32, (3,3), activation='relu',kernel_regularizer=l1(0.0001),padding='same',input_shape=(32,32,3)))\n",
        "model.add(BatchNormalization())\n",
        "model.add(layers.MaxPooling2D((2,2)))\n",
        "model.add(Dropout(0.2))\n",
        "\n",
        "model.add(layers.Conv2D(64, (3,3), activation='relu',kernel_regularizer=l1(0.0001),padding='same'))\n",
        "model.add(BatchNormalization())\n",
        "model.add(layers.Conv2D(64, (3,3), activation='relu',kernel_regularizer=l1(0.0001),padding='same'))\n",
        "model.add(BatchNormalization())\n",
        "model.add(layers.MaxPooling2D((2,2)))\n",
        "model.add(Dropout(0.3))\n",
        "\n",
        "model.add(layers.Conv2D(128, (3,3), activation='relu',kernel_regularizer=l1(0.0001),padding='same'))\n",
        "model.add(BatchNormalization())\n",
        "model.add(layers.Conv2D(128, (3,3), activation='relu',kernel_regularizer=l1(0.0001),padding='same'))\n",
        "model.add(BatchNormalization())\n",
        "model.add(layers.MaxPooling2D((2,2)))\n",
        "model.add(Dropout(0.4))\n",
        "\n",
        "model.add(layers.Flatten())\n",
        "\n",
        "model.add(layers.Dense(128, activation='relu'))\n",
        "model.add(layers.Dense(25, activation='softmax'))\n",
        "model.compile(optimizer='adam', loss=tf.keras.losses.CategoricalCrossentropy(from_logits=True), metrics=['accuracy'])"
      ],
      "execution_count": null,
      "outputs": []
    },
    {
      "cell_type": "code",
      "metadata": {
        "id": "bYTjVfc99Yej",
        "colab": {
          "base_uri": "https://localhost:8080/"
        },
        "outputId": "8e79ee26-6815-4f4a-8d16-dcfdc735a057"
      },
      "source": [
        "import warnings\n",
        "warnings.filterwarnings(action='ignore')\n",
        "history=model.fit(train_images, train_labels, epochs=100, batch_size=32, validation_data=(test_images, test_labels))"
      ],
      "execution_count": null,
      "outputs": [
        {
          "output_type": "stream",
          "name": "stdout",
          "text": [
            "Epoch 1/100\n",
            "1563/1563 [==============================] - 51s 25ms/step - loss: 2.1341 - accuracy: 0.5122 - val_loss: 1.8520 - val_accuracy: 0.5884\n",
            "Epoch 2/100\n",
            "1563/1563 [==============================] - 38s 24ms/step - loss: 1.5432 - accuracy: 0.6642 - val_loss: 1.3834 - val_accuracy: 0.7042\n",
            "Epoch 3/100\n",
            "1563/1563 [==============================] - 37s 24ms/step - loss: 1.3983 - accuracy: 0.7068 - val_loss: 1.5078 - val_accuracy: 0.6714\n",
            "Epoch 4/100\n",
            "1563/1563 [==============================] - 38s 24ms/step - loss: 1.3486 - accuracy: 0.7304 - val_loss: 1.4108 - val_accuracy: 0.7130\n",
            "Epoch 5/100\n",
            "1563/1563 [==============================] - 37s 24ms/step - loss: 1.3133 - accuracy: 0.7485 - val_loss: 1.6315 - val_accuracy: 0.6672\n",
            "Epoch 6/100\n",
            "1563/1563 [==============================] - 37s 24ms/step - loss: 1.2733 - accuracy: 0.7659 - val_loss: 1.2996 - val_accuracy: 0.7578\n",
            "Epoch 7/100\n",
            "1563/1563 [==============================] - 37s 24ms/step - loss: 1.2407 - accuracy: 0.7756 - val_loss: 1.6103 - val_accuracy: 0.6718\n",
            "Epoch 8/100\n",
            "1563/1563 [==============================] - 37s 24ms/step - loss: 1.1950 - accuracy: 0.7843 - val_loss: 1.1995 - val_accuracy: 0.7892\n",
            "Epoch 9/100\n",
            "1563/1563 [==============================] - 37s 24ms/step - loss: 1.1723 - accuracy: 0.7919 - val_loss: 1.1720 - val_accuracy: 0.7958\n",
            "Epoch 10/100\n",
            "1563/1563 [==============================] - 37s 24ms/step - loss: 1.1378 - accuracy: 0.8006 - val_loss: 1.1748 - val_accuracy: 0.7903\n",
            "Epoch 11/100\n",
            "1563/1563 [==============================] - 37s 24ms/step - loss: 1.1148 - accuracy: 0.8036 - val_loss: 1.2396 - val_accuracy: 0.7705\n",
            "Epoch 12/100\n",
            "1563/1563 [==============================] - 37s 24ms/step - loss: 1.0814 - accuracy: 0.8112 - val_loss: 1.1057 - val_accuracy: 0.8011\n",
            "Epoch 13/100\n",
            "1563/1563 [==============================] - 37s 24ms/step - loss: 1.0629 - accuracy: 0.8143 - val_loss: 1.1436 - val_accuracy: 0.7925\n",
            "Epoch 14/100\n",
            "1563/1563 [==============================] - 37s 24ms/step - loss: 1.0469 - accuracy: 0.8162 - val_loss: 1.0888 - val_accuracy: 0.8102\n",
            "Epoch 15/100\n",
            "1563/1563 [==============================] - 37s 24ms/step - loss: 1.0363 - accuracy: 0.8210 - val_loss: 1.0969 - val_accuracy: 0.8095\n",
            "Epoch 16/100\n",
            "1563/1563 [==============================] - 37s 24ms/step - loss: 1.0145 - accuracy: 0.8255 - val_loss: 1.0556 - val_accuracy: 0.8202\n",
            "Epoch 17/100\n",
            "1563/1563 [==============================] - 37s 24ms/step - loss: 1.0032 - accuracy: 0.8278 - val_loss: 1.1005 - val_accuracy: 0.8071\n",
            "Epoch 18/100\n",
            "1563/1563 [==============================] - 37s 24ms/step - loss: 0.9912 - accuracy: 0.8319 - val_loss: 1.0957 - val_accuracy: 0.8045\n",
            "Epoch 19/100\n",
            "1563/1563 [==============================] - 37s 24ms/step - loss: 0.9748 - accuracy: 0.8349 - val_loss: 1.0348 - val_accuracy: 0.8202\n",
            "Epoch 20/100\n",
            "1563/1563 [==============================] - 37s 24ms/step - loss: 0.9611 - accuracy: 0.8368 - val_loss: 1.0803 - val_accuracy: 0.8062\n",
            "Epoch 21/100\n",
            "1563/1563 [==============================] - 37s 24ms/step - loss: 0.9512 - accuracy: 0.8385 - val_loss: 1.0973 - val_accuracy: 0.7988\n",
            "Epoch 22/100\n",
            "1563/1563 [==============================] - 37s 23ms/step - loss: 0.9404 - accuracy: 0.8418 - val_loss: 1.0177 - val_accuracy: 0.8235\n",
            "Epoch 23/100\n",
            "1563/1563 [==============================] - 37s 23ms/step - loss: 0.9333 - accuracy: 0.8442 - val_loss: 1.0018 - val_accuracy: 0.8223\n",
            "Epoch 24/100\n",
            "1563/1563 [==============================] - 37s 24ms/step - loss: 0.9121 - accuracy: 0.8471 - val_loss: 1.0782 - val_accuracy: 0.8011\n",
            "Epoch 25/100\n",
            "1563/1563 [==============================] - 37s 24ms/step - loss: 0.9105 - accuracy: 0.8480 - val_loss: 0.9799 - val_accuracy: 0.8269\n",
            "Epoch 26/100\n",
            "1563/1563 [==============================] - 37s 24ms/step - loss: 0.8958 - accuracy: 0.8518 - val_loss: 0.9819 - val_accuracy: 0.8351\n",
            "Epoch 27/100\n",
            "1563/1563 [==============================] - 37s 24ms/step - loss: 0.8916 - accuracy: 0.8528 - val_loss: 0.9644 - val_accuracy: 0.8359\n",
            "Epoch 28/100\n",
            "1563/1563 [==============================] - 37s 24ms/step - loss: 0.8765 - accuracy: 0.8566 - val_loss: 0.9746 - val_accuracy: 0.8327\n",
            "Epoch 29/100\n",
            "1563/1563 [==============================] - 37s 24ms/step - loss: 0.8740 - accuracy: 0.8564 - val_loss: 0.9752 - val_accuracy: 0.8346\n",
            "Epoch 30/100\n",
            "1563/1563 [==============================] - 37s 24ms/step - loss: 0.8637 - accuracy: 0.8592 - val_loss: 0.9580 - val_accuracy: 0.8356\n",
            "Epoch 31/100\n",
            "1563/1563 [==============================] - 37s 24ms/step - loss: 0.8568 - accuracy: 0.8597 - val_loss: 0.9705 - val_accuracy: 0.8274\n",
            "Epoch 32/100\n",
            "1563/1563 [==============================] - 37s 24ms/step - loss: 0.8546 - accuracy: 0.8611 - val_loss: 0.9356 - val_accuracy: 0.8404\n",
            "Epoch 33/100\n",
            "1563/1563 [==============================] - 37s 24ms/step - loss: 0.8479 - accuracy: 0.8632 - val_loss: 0.9813 - val_accuracy: 0.8208\n",
            "Epoch 34/100\n",
            "1563/1563 [==============================] - 37s 24ms/step - loss: 0.8419 - accuracy: 0.8630 - val_loss: 0.9930 - val_accuracy: 0.8229\n",
            "Epoch 35/100\n",
            "1563/1563 [==============================] - 37s 24ms/step - loss: 0.8328 - accuracy: 0.8650 - val_loss: 0.9743 - val_accuracy: 0.8309\n",
            "Epoch 36/100\n",
            "1563/1563 [==============================] - 37s 24ms/step - loss: 0.8232 - accuracy: 0.8665 - val_loss: 0.9668 - val_accuracy: 0.8300\n",
            "Epoch 37/100\n",
            "1563/1563 [==============================] - 37s 24ms/step - loss: 0.8232 - accuracy: 0.8671 - val_loss: 1.0959 - val_accuracy: 0.7938\n",
            "Epoch 38/100\n",
            "1563/1563 [==============================] - 37s 24ms/step - loss: 0.8132 - accuracy: 0.8691 - val_loss: 0.9441 - val_accuracy: 0.8366\n",
            "Epoch 39/100\n",
            "1563/1563 [==============================] - 37s 24ms/step - loss: 0.8128 - accuracy: 0.8686 - val_loss: 0.9484 - val_accuracy: 0.8354\n",
            "Epoch 40/100\n",
            "1563/1563 [==============================] - 37s 24ms/step - loss: 0.8067 - accuracy: 0.8699 - val_loss: 0.9159 - val_accuracy: 0.8401\n",
            "Epoch 41/100\n",
            "1563/1563 [==============================] - 38s 24ms/step - loss: 0.8089 - accuracy: 0.8715 - val_loss: 0.9334 - val_accuracy: 0.8431\n",
            "Epoch 42/100\n",
            "1563/1563 [==============================] - 37s 24ms/step - loss: 0.7998 - accuracy: 0.8729 - val_loss: 0.9445 - val_accuracy: 0.8353\n",
            "Epoch 43/100\n",
            "1563/1563 [==============================] - 37s 24ms/step - loss: 0.7909 - accuracy: 0.8741 - val_loss: 0.9452 - val_accuracy: 0.8362\n",
            "Epoch 44/100\n",
            "1563/1563 [==============================] - 37s 24ms/step - loss: 0.7878 - accuracy: 0.8736 - val_loss: 0.9372 - val_accuracy: 0.8398\n",
            "Epoch 45/100\n",
            "1563/1563 [==============================] - 38s 24ms/step - loss: 0.7833 - accuracy: 0.8780 - val_loss: 0.9728 - val_accuracy: 0.8259\n",
            "Epoch 46/100\n",
            "1563/1563 [==============================] - 37s 24ms/step - loss: 0.7840 - accuracy: 0.8757 - val_loss: 0.9649 - val_accuracy: 0.8316\n",
            "Epoch 47/100\n",
            "1563/1563 [==============================] - 37s 24ms/step - loss: 0.7737 - accuracy: 0.8794 - val_loss: 0.9148 - val_accuracy: 0.8414\n",
            "Epoch 48/100\n",
            "1563/1563 [==============================] - 37s 24ms/step - loss: 0.7759 - accuracy: 0.8789 - val_loss: 0.9660 - val_accuracy: 0.8258\n",
            "Epoch 49/100\n",
            "1563/1563 [==============================] - 37s 24ms/step - loss: 0.7696 - accuracy: 0.8803 - val_loss: 0.9393 - val_accuracy: 0.8378\n",
            "Epoch 50/100\n",
            "1563/1563 [==============================] - 37s 24ms/step - loss: 0.7644 - accuracy: 0.8831 - val_loss: 0.9708 - val_accuracy: 0.8265\n",
            "Epoch 51/100\n",
            "1563/1563 [==============================] - 37s 24ms/step - loss: 0.7652 - accuracy: 0.8816 - val_loss: 0.9498 - val_accuracy: 0.8312\n",
            "Epoch 52/100\n",
            "1563/1563 [==============================] - 37s 24ms/step - loss: 0.7660 - accuracy: 0.8821 - val_loss: 0.9233 - val_accuracy: 0.8418\n",
            "Epoch 53/100\n",
            "1563/1563 [==============================] - 37s 24ms/step - loss: 0.7630 - accuracy: 0.8810 - val_loss: 0.9100 - val_accuracy: 0.8423\n",
            "Epoch 54/100\n",
            "1563/1563 [==============================] - 37s 24ms/step - loss: 0.7577 - accuracy: 0.8841 - val_loss: 0.9470 - val_accuracy: 0.8373\n",
            "Epoch 55/100\n",
            "1563/1563 [==============================] - 37s 24ms/step - loss: 0.7569 - accuracy: 0.8849 - val_loss: 0.9494 - val_accuracy: 0.8334\n",
            "Epoch 56/100\n",
            "1563/1563 [==============================] - 37s 24ms/step - loss: 0.7529 - accuracy: 0.8852 - val_loss: 0.9835 - val_accuracy: 0.8302\n",
            "Epoch 57/100\n",
            "1563/1563 [==============================] - 37s 24ms/step - loss: 0.7496 - accuracy: 0.8848 - val_loss: 0.9639 - val_accuracy: 0.8368\n",
            "Epoch 58/100\n",
            "1563/1563 [==============================] - 37s 24ms/step - loss: 0.7506 - accuracy: 0.8863 - val_loss: 0.9245 - val_accuracy: 0.8440\n",
            "Epoch 59/100\n",
            "1563/1563 [==============================] - 37s 24ms/step - loss: 0.7419 - accuracy: 0.8896 - val_loss: 0.9275 - val_accuracy: 0.8434\n",
            "Epoch 60/100\n",
            "1563/1563 [==============================] - 37s 24ms/step - loss: 0.7469 - accuracy: 0.8852 - val_loss: 0.9487 - val_accuracy: 0.8330\n",
            "Epoch 61/100\n",
            "1563/1563 [==============================] - 37s 24ms/step - loss: 0.7408 - accuracy: 0.8872 - val_loss: 0.9146 - val_accuracy: 0.8468\n",
            "Epoch 62/100\n",
            "1563/1563 [==============================] - 37s 24ms/step - loss: 0.7386 - accuracy: 0.8869 - val_loss: 0.9529 - val_accuracy: 0.8363\n",
            "Epoch 63/100\n",
            "1563/1563 [==============================] - 37s 24ms/step - loss: 0.7354 - accuracy: 0.8879 - val_loss: 0.9213 - val_accuracy: 0.8438\n",
            "Epoch 64/100\n",
            "1563/1563 [==============================] - 37s 24ms/step - loss: 0.7370 - accuracy: 0.8912 - val_loss: 0.9328 - val_accuracy: 0.8337\n",
            "Epoch 65/100\n",
            "1563/1563 [==============================] - 37s 24ms/step - loss: 0.7354 - accuracy: 0.8895 - val_loss: 0.9281 - val_accuracy: 0.8367\n",
            "Epoch 66/100\n",
            "1563/1563 [==============================] - 37s 24ms/step - loss: 0.7337 - accuracy: 0.8902 - val_loss: 0.9683 - val_accuracy: 0.8282\n",
            "Epoch 67/100\n",
            "1563/1563 [==============================] - 37s 24ms/step - loss: 0.7259 - accuracy: 0.8926 - val_loss: 0.9157 - val_accuracy: 0.8461\n",
            "Epoch 68/100\n",
            "1563/1563 [==============================] - 37s 24ms/step - loss: 0.7269 - accuracy: 0.8900 - val_loss: 0.9321 - val_accuracy: 0.8421\n",
            "Epoch 69/100\n",
            "1563/1563 [==============================] - 37s 24ms/step - loss: 0.7204 - accuracy: 0.8925 - val_loss: 0.9578 - val_accuracy: 0.8353\n",
            "Epoch 70/100\n",
            "1563/1563 [==============================] - 37s 24ms/step - loss: 0.7137 - accuracy: 0.8942 - val_loss: 0.9180 - val_accuracy: 0.8387\n",
            "Epoch 71/100\n",
            "1563/1563 [==============================] - 37s 24ms/step - loss: 0.7198 - accuracy: 0.8943 - val_loss: 1.0055 - val_accuracy: 0.8177\n",
            "Epoch 72/100\n",
            "1563/1563 [==============================] - 37s 24ms/step - loss: 0.7252 - accuracy: 0.8928 - val_loss: 0.8980 - val_accuracy: 0.8409\n",
            "Epoch 73/100\n",
            "1563/1563 [==============================] - 37s 24ms/step - loss: 0.7179 - accuracy: 0.8921 - val_loss: 0.9077 - val_accuracy: 0.8449\n",
            "Epoch 74/100\n",
            "1563/1563 [==============================] - 38s 24ms/step - loss: 0.7111 - accuracy: 0.8960 - val_loss: 0.9504 - val_accuracy: 0.8340\n",
            "Epoch 75/100\n",
            "1563/1563 [==============================] - 38s 24ms/step - loss: 0.7135 - accuracy: 0.8959 - val_loss: 0.9644 - val_accuracy: 0.8327\n",
            "Epoch 76/100\n",
            "1563/1563 [==============================] - 38s 24ms/step - loss: 0.7141 - accuracy: 0.8928 - val_loss: 0.9393 - val_accuracy: 0.8363\n",
            "Epoch 77/100\n",
            "1563/1563 [==============================] - 38s 24ms/step - loss: 0.7106 - accuracy: 0.8948 - val_loss: 0.9337 - val_accuracy: 0.8378\n",
            "Epoch 78/100\n",
            "1563/1563 [==============================] - 38s 24ms/step - loss: 0.7027 - accuracy: 0.8978 - val_loss: 0.9713 - val_accuracy: 0.8317\n",
            "Epoch 79/100\n",
            "1563/1563 [==============================] - 37s 24ms/step - loss: 0.7031 - accuracy: 0.8958 - val_loss: 0.9367 - val_accuracy: 0.8408\n",
            "Epoch 80/100\n",
            "1563/1563 [==============================] - 38s 24ms/step - loss: 0.7059 - accuracy: 0.8966 - val_loss: 0.9337 - val_accuracy: 0.8419\n",
            "Epoch 81/100\n",
            "1563/1563 [==============================] - 38s 24ms/step - loss: 0.7034 - accuracy: 0.8956 - val_loss: 0.9801 - val_accuracy: 0.8261\n",
            "Epoch 82/100\n",
            "1563/1563 [==============================] - 37s 24ms/step - loss: 0.6979 - accuracy: 0.8969 - val_loss: 0.9299 - val_accuracy: 0.8410\n",
            "Epoch 83/100\n",
            "1563/1563 [==============================] - 37s 24ms/step - loss: 0.6959 - accuracy: 0.8977 - val_loss: 0.9307 - val_accuracy: 0.8376\n",
            "Epoch 84/100\n",
            "1563/1563 [==============================] - 38s 24ms/step - loss: 0.6941 - accuracy: 0.8984 - val_loss: 0.9571 - val_accuracy: 0.8335\n",
            "Epoch 85/100\n",
            "1563/1563 [==============================] - 37s 24ms/step - loss: 0.6980 - accuracy: 0.8968 - val_loss: 0.9195 - val_accuracy: 0.8401\n",
            "Epoch 86/100\n",
            "1563/1563 [==============================] - 37s 24ms/step - loss: 0.7030 - accuracy: 0.8960 - val_loss: 0.9123 - val_accuracy: 0.8439\n",
            "Epoch 87/100\n",
            "1563/1563 [==============================] - 37s 24ms/step - loss: 0.6916 - accuracy: 0.8989 - val_loss: 0.9315 - val_accuracy: 0.8365\n",
            "Epoch 88/100\n",
            "1563/1563 [==============================] - 37s 24ms/step - loss: 0.6897 - accuracy: 0.8982 - val_loss: 0.9146 - val_accuracy: 0.8378\n",
            "Epoch 89/100\n",
            "1563/1563 [==============================] - 37s 24ms/step - loss: 0.6893 - accuracy: 0.8995 - val_loss: 0.9261 - val_accuracy: 0.8377\n",
            "Epoch 90/100\n",
            "1563/1563 [==============================] - 37s 24ms/step - loss: 0.6882 - accuracy: 0.8986 - val_loss: 0.9770 - val_accuracy: 0.8273\n",
            "Epoch 91/100\n",
            "1563/1563 [==============================] - 37s 24ms/step - loss: 0.6827 - accuracy: 0.9023 - val_loss: 0.9505 - val_accuracy: 0.8330\n",
            "Epoch 92/100\n",
            "1563/1563 [==============================] - 37s 24ms/step - loss: 0.6778 - accuracy: 0.9027 - val_loss: 0.9431 - val_accuracy: 0.8329\n",
            "Epoch 93/100\n",
            "1563/1563 [==============================] - 37s 24ms/step - loss: 0.6864 - accuracy: 0.9000 - val_loss: 0.9338 - val_accuracy: 0.8385\n",
            "Epoch 94/100\n",
            "1563/1563 [==============================] - 37s 24ms/step - loss: 0.6779 - accuracy: 0.9034 - val_loss: 0.9179 - val_accuracy: 0.8379\n",
            "Epoch 95/100\n",
            "1563/1563 [==============================] - 38s 24ms/step - loss: 0.6848 - accuracy: 0.9011 - val_loss: 0.9180 - val_accuracy: 0.8376\n",
            "Epoch 96/100\n",
            "1563/1563 [==============================] - 37s 24ms/step - loss: 0.6766 - accuracy: 0.9003 - val_loss: 0.9210 - val_accuracy: 0.8373\n",
            "Epoch 97/100\n",
            "1563/1563 [==============================] - 37s 24ms/step - loss: 0.6774 - accuracy: 0.9028 - val_loss: 0.9392 - val_accuracy: 0.8344\n",
            "Epoch 98/100\n",
            "1563/1563 [==============================] - 37s 24ms/step - loss: 0.6802 - accuracy: 0.9027 - val_loss: 0.9563 - val_accuracy: 0.8357\n",
            "Epoch 99/100\n",
            "1563/1563 [==============================] - 37s 24ms/step - loss: 0.6797 - accuracy: 0.9023 - val_loss: 0.9282 - val_accuracy: 0.8386\n",
            "Epoch 100/100\n",
            "1563/1563 [==============================] - 38s 24ms/step - loss: 0.6697 - accuracy: 0.9046 - val_loss: 0.9110 - val_accuracy: 0.8423\n"
          ]
        }
      ]
    },
    {
      "cell_type": "code",
      "metadata": {
        "id": "azZh06g39bh6",
        "colab": {
          "base_uri": "https://localhost:8080/"
        },
        "outputId": "b66b52bd-9755-417d-b883-06dc246e3d4e"
      },
      "source": [
        "import matplotlib.pyplot as plt\n",
        "plt.plot(history.history['accuracy'], label='accuracy')\n",
        "plt.plot(history.history['val_accuracy'], label = 'val_accuracy')\n",
        "plt.xlabel('Epoch')\n",
        "plt.ylabel('Accuracy')\n",
        "plt.ylim([0.5,1])\n",
        "plt.legend(loc='lower right')"
      ],
      "execution_count": null,
      "outputs": [
        {
          "output_type": "execute_result",
          "data": {
            "text/plain": [
              "<matplotlib.legend.Legend at 0x7f1922762690>"
            ]
          },
          "metadata": {},
          "execution_count": 4
        },
        {
          "output_type": "display_data",
          "data": {
            "image/png": "[encoded data removed]",
            "text/plain": [
              "<Figure size 432x288 with 1 Axes>"
            ]
          },
          "metadata": {
            "needs_background": "light"
          }
        }
      ]
    },
    {
      "cell_type": "code",
      "metadata": {
        "id": "zPJ47CXv9dJu",
        "colab": {
          "base_uri": "https://localhost:8080/"
        },
        "outputId": "ea7b89b8-56e2-4ae6-cce8-471112508b3d"
      },
      "source": [
        "test_loss, test_acc = model.evaluate(test_images, test_labels, verbose=2)\n",
        "print(test_acc)"
      ],
      "execution_count": null,
      "outputs": [
        {
          "output_type": "stream",
          "name": "stdout",
          "text": [
            "313/313 - 2s - loss: 0.9110 - accuracy: 0.8423 - 2s/epoch - 7ms/step\n",
            "0.8422999978065491\n"
          ]
        }
      ]
    }
  ]
}